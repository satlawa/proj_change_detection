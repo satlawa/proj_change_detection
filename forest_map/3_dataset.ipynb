{
 "cells": [
  {
   "cell_type": "code",
   "execution_count": null,
   "id": "0ef8637d",
   "metadata": {},
   "outputs": [],
   "source": [
    "# create data set"
   ]
  },
  {
   "cell_type": "code",
   "execution_count": 2,
   "id": "7d040667",
   "metadata": {},
   "outputs": [],
   "source": [
    "import os\n",
    "import numpy as np\n",
    "\n",
    "from DatasetCreation import DatasetCreation"
   ]
  },
  {
   "cell_type": "code",
   "execution_count": 3,
   "id": "22f79c30",
   "metadata": {},
   "outputs": [
    {
     "data": {
      "text/plain": [
       "'/mnt/data_2/2017_mariazell/'"
      ]
     },
     "execution_count": 3,
     "metadata": {},
     "output_type": "execute_result"
    }
   ],
   "source": [
    "dir_path = '/mnt/data_2/2017_mariazell/'\n",
    "\n",
    "dsc = DatasetCreation(dir_path)\n",
    "\n",
    "# set input data directory containing the preprocessed data\n",
    "dsc.set_input_dir(dir_path)\n",
    "# check for correctness\n",
    "dsc.path_dir"
   ]
  },
  {
   "cell_type": "code",
   "execution_count": 4,
   "id": "a3723973",
   "metadata": {},
   "outputs": [
    {
     "data": {
      "text/plain": [
       "{'ortho': {'dtype': numpy.uint8, 'dim': 4},\n",
       " 'forest_map': {'dtype': numpy.uint8, 'dim': 1},\n",
       " 'ground_truth_fmc': {'dtype': numpy.uint8, 'dim': 1}}"
      ]
     },
     "execution_count": 4,
     "metadata": {},
     "output_type": "execute_result"
    }
   ],
   "source": [
    "# dictionary with all layers\n",
    "\n",
    "type_mask='ground_truth_std'\n",
    "data_dic = {'ortho':{'dtype':np.uint8, 'dim':4}, \\\n",
    "            'forest_map':{'dtype':np.uint8, 'dim':1}, \\\n",
    "            'ground_truth_fmc':{'dtype':np.uint8, 'dim':1}}\n",
    "\n",
    "# set data types to be included\n",
    "dsc.set_data_types(data_dic)\n",
    "# check for correctness\n",
    "dsc.data_dic"
   ]
  },
  {
   "cell_type": "code",
   "execution_count": 5,
   "id": "20948e6c",
   "metadata": {},
   "outputs": [
    {
     "name": "stdout",
     "output_type": "stream",
     "text": [
      "file not found -> creating file\n"
     ]
    },
    {
     "data": {
      "text/plain": [
       "'/mnt/data_1/dataset/dataset_256_fmc_173.h5'"
      ]
     },
     "execution_count": 5,
     "metadata": {},
     "output_type": "execute_result"
    }
   ],
   "source": [
    "# set output path\n",
    "path_hdf5 = '/mnt/data_1/dataset/dataset_256_fmc_173.h5'\n",
    "\n",
    "if not os.path.isfile(path_hdf5):\n",
    "    print('file not found -> creating file')\n",
    "    # create new hdf5 file\n",
    "    #dsc.create_hdf5(path_hdf5, tile_size=256, dataset_size=10679*4) # tams: 39280, bisch: 35272\n",
    "    dsc.create_hdf5(path_hdf5, tile_size=256, dataset_size=15110*4)\n",
    "    \n",
    "# set hdf5 file\n",
    "dsc.set_hdf5(path_hdf5)\n",
    "# check for correctness\n",
    "dsc.path_hdf5"
   ]
  },
  {
   "cell_type": "code",
   "execution_count": 6,
   "id": "4b5d46f3",
   "metadata": {
    "scrolled": true
   },
   "outputs": [
    {
     "name": "stdout",
     "output_type": "stream",
     "text": [
      "0 1000\n",
      "(1000, 512, 512, 4)\n",
      "(1000, 512, 512, 1)\n",
      "(1000, 512, 512, 1)\n",
      "4000\n",
      "1000 2000\n",
      "(1000, 512, 512, 4)\n",
      "(1000, 512, 512, 1)\n",
      "(1000, 512, 512, 1)\n",
      "8000\n",
      "2000 3000\n",
      "(1000, 512, 512, 4)\n",
      "(1000, 512, 512, 1)\n",
      "(1000, 512, 512, 1)\n",
      "12000\n",
      "3000 4000\n",
      "(1000, 512, 512, 4)\n",
      "(1000, 512, 512, 1)\n",
      "(1000, 512, 512, 1)\n",
      "16000\n",
      "4000 5000\n",
      "(1000, 512, 512, 4)\n",
      "(1000, 512, 512, 1)\n",
      "(1000, 512, 512, 1)\n",
      "20000\n",
      "5000 6000\n",
      "(1000, 512, 512, 4)\n",
      "(1000, 512, 512, 1)\n",
      "(1000, 512, 512, 1)\n",
      "24000\n",
      "6000 7000\n",
      "(1000, 512, 512, 4)\n",
      "(1000, 512, 512, 1)\n",
      "(1000, 512, 512, 1)\n",
      "28000\n",
      "7000 8000\n",
      "(1000, 512, 512, 4)\n",
      "(1000, 512, 512, 1)\n",
      "(1000, 512, 512, 1)\n",
      "32000\n",
      "8000 9000\n",
      "(1000, 512, 512, 4)\n",
      "(1000, 512, 512, 1)\n",
      "(1000, 512, 512, 1)\n",
      "36000\n",
      "9000 10000\n",
      "(1000, 512, 512, 4)\n",
      "(1000, 512, 512, 1)\n",
      "(1000, 512, 512, 1)\n",
      "40000\n",
      "10000 11000\n",
      "(1000, 512, 512, 4)\n",
      "(1000, 512, 512, 1)\n",
      "(1000, 512, 512, 1)\n",
      "44000\n",
      "11000 12000\n",
      "(1000, 512, 512, 4)\n",
      "(1000, 512, 512, 1)\n",
      "(1000, 512, 512, 1)\n",
      "48000\n",
      "12000 13000\n",
      "(1000, 512, 512, 4)\n",
      "(1000, 512, 512, 1)\n",
      "(1000, 512, 512, 1)\n",
      "52000\n",
      "13000 14000\n",
      "(1000, 512, 512, 4)\n",
      "(1000, 512, 512, 1)\n",
      "(1000, 512, 512, 1)\n",
      "56000\n",
      "14000 15000\n",
      "(1000, 512, 512, 4)\n",
      "(1000, 512, 512, 1)\n",
      "(1000, 512, 512, 1)\n",
      "60000\n",
      "15000 15110\n",
      "(110, 512, 512, 4)\n",
      "(110, 512, 512, 1)\n",
      "(110, 512, 512, 1)\n",
      "60440\n",
      "finished\n"
     ]
    }
   ],
   "source": [
    "dsc.add_dataset_to_hdf5(block_size=1000, start_index=0, sort=True, type_mask=type_mask)"
   ]
  },
  {
   "cell_type": "code",
   "execution_count": null,
   "id": "7abe0969",
   "metadata": {},
   "outputs": [],
   "source": []
  },
  {
   "cell_type": "code",
   "execution_count": null,
   "id": "eecf3366",
   "metadata": {},
   "outputs": [],
   "source": [
    "###############\n",
    "# calc stats\n",
    "###############"
   ]
  },
  {
   "cell_type": "code",
   "execution_count": 9,
   "id": "77a82e0a",
   "metadata": {},
   "outputs": [],
   "source": [
    "from DatasetCreation import DatasetStats\n",
    "import numpy as np\n",
    "import h5py"
   ]
  },
  {
   "cell_type": "code",
   "execution_count": 12,
   "id": "d235f41b",
   "metadata": {},
   "outputs": [],
   "source": [
    "stats = DatasetStats(dir_path)"
   ]
  },
  {
   "cell_type": "code",
   "execution_count": 13,
   "id": "164a673b",
   "metadata": {},
   "outputs": [
    {
     "name": "stdout",
     "output_type": "stream",
     "text": [
      "--------------------------------------------------\n",
      "ortho\n",
      "[51.29951689648833, 61.513710939418715, 58.09777838115578, 99.24196354975217]\n",
      "Band: 0\n",
      "Band: 1\n",
      "Band: 2\n",
      "Band: 3\n",
      "[37.40241354242846, 34.70605265835043, 25.07082885046555, 46.30699961335043]\n",
      "--------------------------------------------------\n",
      "forest_map\n",
      "[68.88467530453151]\n",
      "[55.43162080043525]\n",
      "--------------------------------------------------\n",
      "ground_truth_fmc\n",
      "[0.09728386233296323]\n",
      "[0.29634390910315617]\n"
     ]
    }
   ],
   "source": [
    "start = 0\n",
    "end = 60440\n",
    "\n",
    "hdf5_ds = h5py.File(path_hdf5, 'a')\n",
    "\n",
    "for key in data_dic:\n",
    "    print('--------------------------------------------------')\n",
    "    \n",
    "    if (len(key) >= 12) & (key[:12] == 'ground_truth_fmc'):\n",
    "        next\n",
    "        \n",
    "    else:\n",
    "        print(key)\n",
    "\n",
    "        bands = 4 if key == 'ortho' else 1\n",
    "\n",
    "        mean = stats.calc_mean(dset=hdf5_ds, data_type=key, start_index=start, end_index=end, block_size=5000, bands=bands)\n",
    "        hdf5_ds[key].attrs['mean'] = np.array(mean, dtype='float32')\n",
    "        print(mean)\n",
    "\n",
    "        std = stats.calc_std(mean, dset=hdf5_ds, data_type=key, start=start, end=end, block_size=1000, bands=bands, scaler=1000)\n",
    "        hdf5_ds[key].attrs['sd'] = np.array(std, dtype='float32')\n",
    "        print(std)\n",
    "    \n",
    "hdf5_ds.close()"
   ]
  },
  {
   "cell_type": "code",
   "execution_count": null,
   "id": "f86e06db",
   "metadata": {},
   "outputs": [],
   "source": []
  }
 ],
 "metadata": {
  "kernelspec": {
   "display_name": "geo",
   "language": "python",
   "name": "geo"
  },
  "language_info": {
   "codemirror_mode": {
    "name": "ipython",
    "version": 3
   },
   "file_extension": ".py",
   "mimetype": "text/x-python",
   "name": "python",
   "nbconvert_exporter": "python",
   "pygments_lexer": "ipython3",
   "version": "3.10.1"
  }
 },
 "nbformat": 4,
 "nbformat_minor": 5
}
